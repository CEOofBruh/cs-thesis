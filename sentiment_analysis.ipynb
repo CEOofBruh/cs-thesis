{
  "cells": [
    {
      "cell_type": "markdown",
      "metadata": {
        "id": "view-in-github",
        "colab_type": "text"
      },
      "source": [
        "<a href=\"https://colab.research.google.com/github/eeyvee-0x4d/cs-thesis/blob/main/sentiment_analysis.ipynb\" target=\"_parent\"><img src=\"https://colab.research.google.com/assets/colab-badge.svg\" alt=\"Open In Colab\"/></a>"
      ]
    },
    {
      "cell_type": "markdown",
      "metadata": {
        "id": "OWdQ3Ic7Yagi"
      },
      "source": [
        "<h1>Clone repository</h1>"
      ]
    },
    {
      "cell_type": "code",
      "execution_count": 1,
      "metadata": {
        "id": "Y6V5eVRbMm5e",
        "colab": {
          "base_uri": "https://localhost:8080/"
        },
        "outputId": "51ee36e8-9745-4c2c-8db5-96f1782a971d"
      },
      "outputs": [
        {
          "output_type": "stream",
          "name": "stdout",
          "text": [
            "Cloning into 'thesis'...\n",
            "warning: --local is ignored\n",
            "remote: Enumerating objects: 1236, done.\u001b[K\n",
            "remote: Counting objects: 100% (9/9), done.\u001b[K\n",
            "remote: Compressing objects: 100% (7/7), done.\u001b[K\n",
            "remote: Total 1236 (delta 2), reused 6 (delta 2), pack-reused 1227\u001b[K\n",
            "Receiving objects: 100% (1236/1236), 104.12 MiB | 11.91 MiB/s, done.\n",
            "Resolving deltas: 100% (535/535), done.\n",
            "/content/thesis\n",
            "client\tDataset  kaggle_tweets.csv  Notebook  README.md  server  StreamingAPI\n"
          ]
        }
      ],
      "source": [
        "# Clone the entire repo.\n",
        "!git clone -l -s https://github.com/eeyvee-0x4d/cs-thesis thesis\n",
        "%cd thesis\n",
        "!ls"
      ]
    },
    {
      "cell_type": "code",
      "execution_count": 2,
      "metadata": {
        "id": "FhuqMaQU6Lwb",
        "colab": {
          "base_uri": "https://localhost:8080/"
        },
        "outputId": "214e228c-e1fd-4028-cfcf-52e39e340103"
      },
      "outputs": [
        {
          "output_type": "stream",
          "name": "stdout",
          "text": [
            "Collecting stopwordsiso\n",
            "  Downloading stopwordsiso-0.6.1-py3-none-any.whl (73 kB)\n",
            "\u001b[?25l\r\u001b[K     |████▌                           | 10 kB 18.4 MB/s eta 0:00:01\r\u001b[K     |█████████                       | 20 kB 10.1 MB/s eta 0:00:01\r\u001b[K     |█████████████▍                  | 30 kB 6.1 MB/s eta 0:00:01\r\u001b[K     |█████████████████▉              | 40 kB 5.6 MB/s eta 0:00:01\r\u001b[K     |██████████████████████▎         | 51 kB 3.4 MB/s eta 0:00:01\r\u001b[K     |██████████████████████████▊     | 61 kB 4.0 MB/s eta 0:00:01\r\u001b[K     |███████████████████████████████▏| 71 kB 4.6 MB/s eta 0:00:01\r\u001b[K     |████████████████████████████████| 73 kB 1.4 MB/s \n",
            "\u001b[?25hInstalling collected packages: stopwordsiso\n",
            "Successfully installed stopwordsiso-0.6.1\n",
            "Requirement already satisfied: imbalanced-learn in /usr/local/lib/python3.7/dist-packages (0.8.1)\n",
            "Requirement already satisfied: numpy>=1.13.3 in /usr/local/lib/python3.7/dist-packages (from imbalanced-learn) (1.21.6)\n",
            "Requirement already satisfied: scikit-learn>=0.24 in /usr/local/lib/python3.7/dist-packages (from imbalanced-learn) (1.0.2)\n",
            "Requirement already satisfied: joblib>=0.11 in /usr/local/lib/python3.7/dist-packages (from imbalanced-learn) (1.1.0)\n",
            "Requirement already satisfied: scipy>=0.19.1 in /usr/local/lib/python3.7/dist-packages (from imbalanced-learn) (1.4.1)\n",
            "Requirement already satisfied: threadpoolctl>=2.0.0 in /usr/local/lib/python3.7/dist-packages (from scikit-learn>=0.24->imbalanced-learn) (3.1.0)\n",
            "[nltk_data] Downloading package punkt to /root/nltk_data...\n",
            "[nltk_data]   Unzipping tokenizers/punkt.zip.\n",
            "[nltk_data] Downloading package stopwords to /root/nltk_data...\n",
            "[nltk_data]   Unzipping corpora/stopwords.zip.\n"
          ]
        }
      ],
      "source": [
        "!pip install stopwordsiso\n",
        "!pip install imbalanced-learn\n",
        "\n",
        "from sklearn.feature_extraction.text import TfidfVectorizer\n",
        "from imblearn.over_sampling import RandomOverSampler\n",
        "from collections import Counter\n",
        "\n",
        "import nltk\n",
        "import stopwordsiso\n",
        "\n",
        "from nltk.stem import *\n",
        "from nltk.corpus import stopwords\n",
        "from nltk.util import ngrams\n",
        "\n",
        "nltk.download(\"punkt\")\n",
        "nltk.download(\"stopwords\")\n",
        "\n",
        "from sklearn.naive_bayes import MultinomialNB\n",
        "from sklearn.model_selection import GridSearchCV\n",
        "from sklearn.metrics import make_scorer\n",
        "from sklearn.metrics import accuracy_score\n",
        "from sklearn.metrics import precision_score\n",
        "from sklearn.metrics import recall_score\n",
        "from sklearn.metrics import f1_score\n",
        "from sklearn.metrics import roc_auc_score\n",
        "from sklearn.metrics import confusion_matrix\n",
        "from sklearn.model_selection import cross_validate\n",
        "from sklearn.model_selection import train_test_split\n",
        "\n",
        "import re\n",
        "import json\n",
        "import pandas as pd"
      ]
    },
    {
      "cell_type": "markdown",
      "metadata": {
        "id": "pvXR9EvKZB0Y"
      },
      "source": [
        "<h1>Text Preprocessing</h1>\n",
        "<ul>\n",
        "  <li>Import dataset</li>\n",
        "  <li>Remove urls</li>\n",
        "  <li>Remove special characters</li>\n",
        "  <li>Convert text data to lowercase</li>\n",
        "</ul>"
      ]
    },
    {
      "cell_type": "code",
      "execution_count": 3,
      "metadata": {
        "id": "X-VQ9aBDLDM3"
      },
      "outputs": [],
      "source": [
        "df = pd.read_csv('/content/thesis/Dataset/training_data.csv') #read csv\n",
        "\n",
        "# remove urls, remove special chars, conver to lowercase\n",
        "for i in range(df.shape[0]):\n",
        "  string = re.sub(r'http\\S+', '', df.at[i, 'Text']).lower()\n",
        "  string = re.sub(r'[^a-zA-Z0-9 ]', '', string)\n",
        "  df.at[i, 'Text'] = re.sub(r'\\n', ' ', string)"
      ]
    },
    {
      "cell_type": "markdown",
      "metadata": {
        "id": "TlDyDPZA-VV9"
      },
      "source": [
        "<h1>Natural Language Toolkit NLTK</h1>\n",
        "<p>\n",
        "Nltk will be used to preprocess to corpus.\n",
        "</p>"
      ]
    },
    {
      "cell_type": "markdown",
      "metadata": {
        "id": "2c1TpyQH-1JW"
      },
      "source": [
        "<h1>Stemming words using Porter Stemmer</h1>\n",
        "<p>\n",
        "Apply porter stemmer to each tokens first then rebuild the tokens into sentence.\n",
        "</p>\n",
        "<hr>\n",
        "<h1>Stop words removal</h1>\n",
        "<p>\n",
        "Remove stop words in english and tagalog.\n",
        "</p>"
      ]
    },
    {
      "cell_type": "code",
      "execution_count": 4,
      "metadata": {
        "id": "WyqpJpwL6lYO"
      },
      "outputs": [],
      "source": [
        "stemmer = PorterStemmer() # Porter Stemmer\n",
        "\n",
        "stopwords_eng = set(stopwords.words('english')) # English stopwords\n",
        "stopwords_tl  = set(stopwordsiso.stopwords('tl'))\n",
        "filtered_sentence = []\n",
        "filtered_sentence2 = []\n",
        "\n",
        "for i in range(len(df['Text'])):\n",
        "  document = df.loc[i, 'Text']\n",
        "  tokens = nltk.word_tokenize(document)\n",
        "\n",
        "  filtered_sentence = [token for token in tokens if not token in stopwords_eng] # remove english stopwords\n",
        "  filtered_sentence2 = [token for token in filtered_sentence if not token in stopwords_tl] #remove tagalog stopwords\n",
        "  stemmed_tokens = [stemmer.stem(token) for token in filtered_sentence2] # stem each words\n",
        "\n",
        "  document = \" \".join(stemmed_tokens)\n",
        "  df.loc[i, 'Text'] = document"
      ]
    },
    {
      "cell_type": "markdown",
      "metadata": {
        "id": "1FN438rY_aOV"
      },
      "source": [
        "# Create n-grams from 1-4\n",
        "\n",
        "Create n-grams from 1 to 4 for exprementational purposes. Use params `ngram_range=(1,1)`, `ngram_range=(1,2)`, `ngram_range=(1,3)`, `ngram_range=(1,4)` in `TfidfVectorizer(ngram_range=(1,1))`.\n",
        "Default is `ngram_range=(1,1)`\n",
        "\n",
        "\n",
        "\n",
        "---\n",
        "\n",
        "\n",
        "# Perform TF-IDF to the corpus\n"
      ]
    },
    {
      "cell_type": "code",
      "source": [
        "X = df['Text'] # tweets\n",
        "y = df['Sentiment'] # labels\n",
        "\n",
        "\"\"\"\n",
        "X_train = train data\n",
        "y_train = train data labels\n",
        "\n",
        "X_test = test data\n",
        "y_test = test data labels\n",
        "\"\"\"\n",
        "X_train, X_test, y_train, y_test = train_test_split(X, y, test_size=0.30)"
      ],
      "metadata": {
        "id": "1Lt5YDqcSMh2"
      },
      "execution_count": 5,
      "outputs": []
    },
    {
      "cell_type": "code",
      "source": [
        "# 1-gram\n",
        "vectorizer = TfidfVectorizer(ngram_range=(1, 1)) # Initialize vectorizer\n",
        "train_data_features = vectorizer.fit_transform(X_train)\n",
        "test_data_features = vectorizer.transform(X_test)"
      ],
      "metadata": {
        "id": "wVysZhaQSQoi"
      },
      "execution_count": 20,
      "outputs": []
    },
    {
      "cell_type": "code",
      "source": [
        "# define oversampling strategy\n",
        "oversample = RandomOverSampler(sampling_strategy='minority')\n",
        "x_oversampled, y_oversampled = oversample.fit_resample(x_train_features, y)"
      ],
      "metadata": {
        "id": "tL9EFzY1FxM5"
      },
      "execution_count": null,
      "outputs": []
    },
    {
      "cell_type": "markdown",
      "source": [
        "## Using Validated data\n",
        "##### unigram\n",
        "\n",
        "|index|param\\_alpha|mean\\_test_accuracy|mean\\_test_f1|mean\\_test_precision|mean\\_test_recall|\n",
        "|---|---|---|---|---|---|\n",
        "|0|1|0\\.8484745413316842|0\\.9098677485838991|0\\.8404345867536123|0\\.9933508771929824|\n",
        "|1|0\\.1|0\\.9105029890744177|0\\.9409872306685416|0\\.9476166557687631|0\\.9360877192982455|\n",
        "|2|0\\.01|0\\.9033601319315606|0\\.9356093061872441|0\\.9474796070710656|0\\.9254035087719299|\n",
        "|3|0\\.001|0\\.8942279942279943|0\\.9300622773471605|0\\.9350463221643295|0\\.9267543859649121|\n",
        "|4|0\\.0001|0\\.8820140177283035|0\\.922532197804894|0\\.9224600519460265|0\\.9240877192982456|\n",
        "|5|1e-05|0\\.8810039167182024|0\\.922029353400361|0\\.9201066895112724|0\\.9254210526315789|\n",
        "\n",
        "##### Oversampled\n",
        "|index|param\\_alpha|mean\\_test_accuracy|mean\\_test_f1|mean\\_test_precision|mean\\_test_recall|\n",
        "|---|---|---|---|---|---|\n",
        "|0|1|0\\.9501280353200883|0\\.9480888476435121|0\\.9719458269355498|0\\.9267368421052632|\n",
        "|1|0\\.1|0\\.9574525386313466|0\\.9558748625063916|0\\.9831689733542959|0\\.9307368421052631|\n",
        "|2|0\\.01|0\\.955448123620309|0\\.9535202234588036|0\\.9830977540315505|0\\.9267543859649121|\n",
        "|3|0\\.001|0\\.9541147902869757|0\\.9521389375216422|0\\.9831276444355851|0\\.9240877192982454|\n",
        "|4|0\\.0001|0\\.9534481236203091|0\\.9514400278207755|0\\.9831276444355851|0\\.9227543859649122|\n",
        "|5|1e-05|0\\.9534481236203091|0\\.9514400278207755|0\\.9831276444355851|0\\.9227543859649122|\n",
        "\n",
        "##### bigram\n",
        "|index|param\\_alpha|mean\\_test_accuracy|mean\\_test_f1|mean\\_test_precision|mean\\_test_recall|\n",
        "|---|---|---|---|---|---|\n",
        "|0|1|0\\.8048134405277263|0\\.8864505489024577|0\\.7998187019212091|0\\.9946666666666667|\n",
        "|1|0\\.1|0\\.890146361574933|0\\.9249702511083866|0\\.9573592422296999|0\\.8974561403508773|\n",
        "|2|0\\.01|0\\.8687693259121831|0\\.9075150445523669|0\\.9689925240289956|0\\.8561929824561403|\n",
        "|3|0\\.001|0\\.8657596371882086|0\\.9068860637028735|0\\.9569575001446088|0\\.8642105263157894|\n",
        "|4|0\\.0001|0\\.8688414759843331|0\\.9103896152391343|0\\.9440900716608864|0\\.881561403508772|\n",
        "|5|1e-05|0\\.8617295403009688|0\\.9062835908878745|0\\.9322961248763425|0\\.8842105263157893|\n",
        "\n",
        "##### Oversampled\n",
        "|index|param\\_alpha|mean\\_test_accuracy|mean\\_test_f1|mean\\_test_precision|mean\\_test_recall|\n",
        "|---|---|---|---|---|---|\n",
        "|index|param\\_alpha|mean\\_test_accuracy|mean\\_test_f1|mean\\_test_precision|mean\\_test_recall|\n",
        "|---|---|---|---|---|---|\n",
        "|0|1|0\\.9567682119205297|0\\.9547695098550623|0\\.9797326308838352|0\\.9333859649122808|\n",
        "|1|0\\.1|0\\.9680750551876379|0\\.9664373933753148|0\\.9908051948051948|0\\.9453859649122809|\n",
        "|2|0\\.01|0\\.9641015452538632|0\\.9628292802819237|0\\.9857874952417205|0\\.942719298245614|\n",
        "|3|0\\.001|0\\.9627726269315673|0\\.9614191092941254|0\\.9857874952417205|0\\.9400701754385963|\n",
        "|4|0\\.0001|0\\.9621103752759381|0\\.9607005124547232|0\\.9855659082701337|0\\.9387543859649122|\n",
        "|5|1e-05|0\\.9621103752759381|0\\.9607005124547232|0\\.9855659082701337|0\\.9387543859649122|\n",
        "\n",
        "##### trigram\n",
        "|index|param\\_alpha|mean\\_test_accuracy|mean\\_test_f1|mean\\_test_precision|mean\\_test_recall|\n",
        "|---|---|---|---|---|---|\n",
        "|0|1|0\\.7926406926406926|0\\.8802654167233952|0\\.7888546642061078|0\\.9960000000000001|\n",
        "|1|0\\.1|0\\.8759224902082045|0\\.9133151627301638|0\\.964941665028552|0\\.8694561403508774|\n",
        "|2|0\\.01|0\\.8169758812615955|0\\.862384101426233|0\\.985647318013047|0\\.7722807017543859|\n",
        "|3|0\\.001|0\\.8362605648319933|0\\.878572032662607|0\\.9830594241723378|0\\.8002456140350876|\n",
        "|4|0\\.0001|0\\.8433415790558646|0\\.8871891637340376|0\\.9590258014133253|0\\.8308947368421051|\n",
        "|5|1e-05|0\\.8444238301381158|0\\.8910702790846907|0\\.9461668498406144|0\\.8455789473684211|\n",
        "\n",
        "##### Oversampled\n",
        "|index|param\\_alpha|mean\\_test_accuracy|mean\\_test_f1|mean\\_test_precision|mean\\_test_recall|\n",
        "|---|---|---|---|---|---|\n",
        "|0|1|0\\.9647373068432671|0\\.9625604680861816|0\\.9946472446472446|0\\.934719298245614|\n",
        "|1|0\\.1|0\\.9760706401766006|0\\.9753499373431864|0\\.992030492030492|0\\.9600526315789473|\n",
        "|2|0\\.01|0\\.9760706401766004|0\\.975384633019776|0\\.9907692307692308|0\\.9613859649122807|\n",
        "|3|0\\.001|0\\.9687637969094922|0\\.9676604017054176|0\\.988102564102564|0\\.9493859649122808|\n",
        "|4|0\\.0001|0\\.9687637969094922|0\\.9676604017054176|0\\.988102564102564|0\\.9493859649122808|\n",
        "|5|1e-05|0\\.9680971302428256|0\\.9669892607658204|0\\.988102564102564|0\\.9480526315789474|\n",
        "\n",
        "##### 4-gram\n",
        "|index|param\\_alpha|mean\\_test_accuracy|mean\\_test_f1|mean\\_test_precision|mean\\_test_recall|\n",
        "|---|---|---|---|---|---|\n",
        "|0|1|0\\.787569573283859|0\\.877818938030709|0\\.7840721161703361|0\\.9973333333333333|\n",
        "|1|0\\.1|0\\.8504844361987219|0\\.8926213241418338|0\\.9684824915857642|0\\.8321403508771932|\n",
        "|2|0\\.01|0\\.7793135435992579|0\\.8284741097744662|0\\.9895755964686099|0\\.7190350877192984|\n",
        "|3|0\\.001|0\\.802721088435374|0\\.8490527922660849|0\\.9868668501939302|0\\.7522982456140351|\n",
        "|4|0\\.0001|0\\.8250773036487322|0\\.868941289840188|0\\.981353083069501|0\\.7869122807017543|\n",
        "|5|1e-05|0\\.8321789321789321|0\\.8770300477579459|0\\.9663329308718183|0\\.809578947368421|\n",
        "\n",
        "##### Oversampled\n",
        "|index|param\\_alpha|mean\\_test_accuracy|mean\\_test_f1|mean\\_test_precision|mean\\_test_recall|\n",
        "|---|---|---|---|---|---|\n",
        "|0|1|0\\.9627682119205299|0\\.961243299781015|0\\.9855685722727976|0\\.9400526315789474|\n",
        "|1|0\\.1|0\\.9787373068432672|0\\.9785436644156977|0\\.9860543184885291|0\\.9720350877192981|\n",
        "|2|0\\.01|0\\.9774128035320089|0\\.9772829293587983|0\\.9859435589948582|0\\.9693684210526318|\n",
        "|3|0\\.001|0\\.9734172185430465|0\\.9729853069470735|0\\.9857962213225371|0\\.9613859649122809|\n",
        "|4|0\\.0001|0\\.9700927152317881|0\\.9693889682442052|0\\.9857962213225371|0\\.9547192982456141|\n",
        "|5|1e-05|0\\.9694304635761588|0\\.9687268852291812|0\\.9857629212892369|0\\.9534035087719298|\n",
        "\n",
        "\n"
      ],
      "metadata": {
        "id": "F3MUeuKS4eSt"
      }
    },
    {
      "cell_type": "code",
      "source": [
        "parameters = {'alpha': [1, 0.1, 0.01, 0.001, 0.0001, 0.00001]}\n",
        "scorers = {\n",
        "    'accuracy': make_scorer(accuracy_score),\n",
        "    'f1': make_scorer(f1_score),\n",
        "    'precision': make_scorer(precision_score),\n",
        "    'recall': make_scorer(recall_score),\n",
        "    'ROC': make_scorer(roc_auc_score)\n",
        "}\n",
        "mnb = MultinomialNB()\n",
        "classifier = GridSearchCV(mnb, parameters, return_train_score=False, cv=10, scoring=scorers, refit='accuracy')\n",
        "classifier.fit(train_data_features, y_train)\n",
        "# classifier.fit(x_oversampled, y_oversampled)"
      ],
      "metadata": {
        "id": "ntsQZqyfnKKr",
        "colab": {
          "base_uri": "https://localhost:8080/"
        },
        "outputId": "73907b68-41b1-4e4f-8337-ab01eac5c70c"
      },
      "execution_count": 21,
      "outputs": [
        {
          "output_type": "execute_result",
          "data": {
            "text/plain": [
              "GridSearchCV(cv=10, estimator=MultinomialNB(),\n",
              "             param_grid={'alpha': [1, 0.1, 0.01, 0.001, 0.0001, 1e-05]},\n",
              "             refit='accuracy',\n",
              "             scoring={'ROC': make_scorer(roc_auc_score),\n",
              "                      'accuracy': make_scorer(accuracy_score),\n",
              "                      'f1': make_scorer(f1_score),\n",
              "                      'precision': make_scorer(precision_score),\n",
              "                      'recall': make_scorer(recall_score)})"
            ]
          },
          "metadata": {},
          "execution_count": 21
        }
      ]
    },
    {
      "cell_type": "code",
      "source": [
        "results = pd.DataFrame(classifier.cv_results_)\n",
        "results[['param_alpha', 'mean_test_accuracy', 'mean_test_f1', 'mean_test_precision', 'mean_test_recall', 'rank_test_accuracy']]"
      ],
      "metadata": {
        "id": "3kkXVJ0va9hw",
        "colab": {
          "base_uri": "https://localhost:8080/",
          "height": 238
        },
        "outputId": "fecfa734-ef4f-46f8-bc66-cc4d11049794"
      },
      "execution_count": 22,
      "outputs": [
        {
          "output_type": "execute_result",
          "data": {
            "text/plain": [
              "  param_alpha  mean_test_accuracy  mean_test_f1  mean_test_precision  \\\n",
              "0           1            0.853842      0.910668             0.845854   \n",
              "1         0.1            0.919436      0.945851             0.957352   \n",
              "2        0.01            0.910505      0.939299             0.955001   \n",
              "3       0.001            0.899564      0.932348             0.942155   \n",
              "4      0.0001            0.901564      0.933898             0.941153   \n",
              "5     0.00001            0.897584      0.931424             0.936209   \n",
              "\n",
              "   mean_test_recall  rank_test_accuracy  \n",
              "0          0.986807                   6  \n",
              "1          0.935246                   1  \n",
              "2          0.924719                   2  \n",
              "3          0.923404                   4  \n",
              "4          0.927386                   3  \n",
              "5          0.927404                   5  "
            ],
            "text/html": [
              "\n",
              "  <div id=\"df-7c96c957-a82e-484b-8330-a5f4559d4cd8\">\n",
              "    <div class=\"colab-df-container\">\n",
              "      <div>\n",
              "<style scoped>\n",
              "    .dataframe tbody tr th:only-of-type {\n",
              "        vertical-align: middle;\n",
              "    }\n",
              "\n",
              "    .dataframe tbody tr th {\n",
              "        vertical-align: top;\n",
              "    }\n",
              "\n",
              "    .dataframe thead th {\n",
              "        text-align: right;\n",
              "    }\n",
              "</style>\n",
              "<table border=\"1\" class=\"dataframe\">\n",
              "  <thead>\n",
              "    <tr style=\"text-align: right;\">\n",
              "      <th></th>\n",
              "      <th>param_alpha</th>\n",
              "      <th>mean_test_accuracy</th>\n",
              "      <th>mean_test_f1</th>\n",
              "      <th>mean_test_precision</th>\n",
              "      <th>mean_test_recall</th>\n",
              "      <th>rank_test_accuracy</th>\n",
              "    </tr>\n",
              "  </thead>\n",
              "  <tbody>\n",
              "    <tr>\n",
              "      <th>0</th>\n",
              "      <td>1</td>\n",
              "      <td>0.853842</td>\n",
              "      <td>0.910668</td>\n",
              "      <td>0.845854</td>\n",
              "      <td>0.986807</td>\n",
              "      <td>6</td>\n",
              "    </tr>\n",
              "    <tr>\n",
              "      <th>1</th>\n",
              "      <td>0.1</td>\n",
              "      <td>0.919436</td>\n",
              "      <td>0.945851</td>\n",
              "      <td>0.957352</td>\n",
              "      <td>0.935246</td>\n",
              "      <td>1</td>\n",
              "    </tr>\n",
              "    <tr>\n",
              "      <th>2</th>\n",
              "      <td>0.01</td>\n",
              "      <td>0.910505</td>\n",
              "      <td>0.939299</td>\n",
              "      <td>0.955001</td>\n",
              "      <td>0.924719</td>\n",
              "      <td>2</td>\n",
              "    </tr>\n",
              "    <tr>\n",
              "      <th>3</th>\n",
              "      <td>0.001</td>\n",
              "      <td>0.899564</td>\n",
              "      <td>0.932348</td>\n",
              "      <td>0.942155</td>\n",
              "      <td>0.923404</td>\n",
              "      <td>4</td>\n",
              "    </tr>\n",
              "    <tr>\n",
              "      <th>4</th>\n",
              "      <td>0.0001</td>\n",
              "      <td>0.901564</td>\n",
              "      <td>0.933898</td>\n",
              "      <td>0.941153</td>\n",
              "      <td>0.927386</td>\n",
              "      <td>3</td>\n",
              "    </tr>\n",
              "    <tr>\n",
              "      <th>5</th>\n",
              "      <td>0.00001</td>\n",
              "      <td>0.897584</td>\n",
              "      <td>0.931424</td>\n",
              "      <td>0.936209</td>\n",
              "      <td>0.927404</td>\n",
              "      <td>5</td>\n",
              "    </tr>\n",
              "  </tbody>\n",
              "</table>\n",
              "</div>\n",
              "      <button class=\"colab-df-convert\" onclick=\"convertToInteractive('df-7c96c957-a82e-484b-8330-a5f4559d4cd8')\"\n",
              "              title=\"Convert this dataframe to an interactive table.\"\n",
              "              style=\"display:none;\">\n",
              "        \n",
              "  <svg xmlns=\"http://www.w3.org/2000/svg\" height=\"24px\"viewBox=\"0 0 24 24\"\n",
              "       width=\"24px\">\n",
              "    <path d=\"M0 0h24v24H0V0z\" fill=\"none\"/>\n",
              "    <path d=\"M18.56 5.44l.94 2.06.94-2.06 2.06-.94-2.06-.94-.94-2.06-.94 2.06-2.06.94zm-11 1L8.5 8.5l.94-2.06 2.06-.94-2.06-.94L8.5 2.5l-.94 2.06-2.06.94zm10 10l.94 2.06.94-2.06 2.06-.94-2.06-.94-.94-2.06-.94 2.06-2.06.94z\"/><path d=\"M17.41 7.96l-1.37-1.37c-.4-.4-.92-.59-1.43-.59-.52 0-1.04.2-1.43.59L10.3 9.45l-7.72 7.72c-.78.78-.78 2.05 0 2.83L4 21.41c.39.39.9.59 1.41.59.51 0 1.02-.2 1.41-.59l7.78-7.78 2.81-2.81c.8-.78.8-2.07 0-2.86zM5.41 20L4 18.59l7.72-7.72 1.47 1.35L5.41 20z\"/>\n",
              "  </svg>\n",
              "      </button>\n",
              "      \n",
              "  <style>\n",
              "    .colab-df-container {\n",
              "      display:flex;\n",
              "      flex-wrap:wrap;\n",
              "      gap: 12px;\n",
              "    }\n",
              "\n",
              "    .colab-df-convert {\n",
              "      background-color: #E8F0FE;\n",
              "      border: none;\n",
              "      border-radius: 50%;\n",
              "      cursor: pointer;\n",
              "      display: none;\n",
              "      fill: #1967D2;\n",
              "      height: 32px;\n",
              "      padding: 0 0 0 0;\n",
              "      width: 32px;\n",
              "    }\n",
              "\n",
              "    .colab-df-convert:hover {\n",
              "      background-color: #E2EBFA;\n",
              "      box-shadow: 0px 1px 2px rgba(60, 64, 67, 0.3), 0px 1px 3px 1px rgba(60, 64, 67, 0.15);\n",
              "      fill: #174EA6;\n",
              "    }\n",
              "\n",
              "    [theme=dark] .colab-df-convert {\n",
              "      background-color: #3B4455;\n",
              "      fill: #D2E3FC;\n",
              "    }\n",
              "\n",
              "    [theme=dark] .colab-df-convert:hover {\n",
              "      background-color: #434B5C;\n",
              "      box-shadow: 0px 1px 3px 1px rgba(0, 0, 0, 0.15);\n",
              "      filter: drop-shadow(0px 1px 2px rgba(0, 0, 0, 0.3));\n",
              "      fill: #FFFFFF;\n",
              "    }\n",
              "  </style>\n",
              "\n",
              "      <script>\n",
              "        const buttonEl =\n",
              "          document.querySelector('#df-7c96c957-a82e-484b-8330-a5f4559d4cd8 button.colab-df-convert');\n",
              "        buttonEl.style.display =\n",
              "          google.colab.kernel.accessAllowed ? 'block' : 'none';\n",
              "\n",
              "        async function convertToInteractive(key) {\n",
              "          const element = document.querySelector('#df-7c96c957-a82e-484b-8330-a5f4559d4cd8');\n",
              "          const dataTable =\n",
              "            await google.colab.kernel.invokeFunction('convertToInteractive',\n",
              "                                                     [key], {});\n",
              "          if (!dataTable) return;\n",
              "\n",
              "          const docLinkHtml = 'Like what you see? Visit the ' +\n",
              "            '<a target=\"_blank\" href=https://colab.research.google.com/notebooks/data_table.ipynb>data table notebook</a>'\n",
              "            + ' to learn more about interactive tables.';\n",
              "          element.innerHTML = '';\n",
              "          dataTable['output_type'] = 'display_data';\n",
              "          await google.colab.output.renderOutput(dataTable, element);\n",
              "          const docLink = document.createElement('div');\n",
              "          docLink.innerHTML = docLinkHtml;\n",
              "          element.appendChild(docLink);\n",
              "        }\n",
              "      </script>\n",
              "    </div>\n",
              "  </div>\n",
              "  "
            ]
          },
          "metadata": {},
          "execution_count": 22
        }
      ]
    },
    {
      "cell_type": "code",
      "source": [
        "y_pred = classifier.predict(test_data_features) # classifier predictions\n",
        "y_true = y_test # ground truth\n",
        "\n",
        "accuracy = accuracy_score(y_true, y_pred) * 100\n",
        "f1 = f1_score(y_true, y_pred) * 100\n",
        "precision = precision_score(y_true, y_pred) * 100\n",
        "recall = recall_score(y_true, y_pred) * 100\n",
        "\n",
        "print(f\"Accuracy: {accuracy} F1 Score: {f1} Precision: {precision} Recall: {recall}\")\n",
        "\n",
        "from sklearn.metrics import confusion_matrix\n",
        "\n",
        "tn, fp, fn, tp = confusion_matrix(y_true, y_pred).ravel()\n",
        "print(f\"Confusion Matrix: \\nTrue Negative: {tn} False Positive: {fp} False Negative: {fn} True Positive: {tp}\")"
      ],
      "metadata": {
        "colab": {
          "base_uri": "https://localhost:8080/"
        },
        "id": "ZAYNYwASOcKR",
        "outputId": "abded296-3903-46c5-c81e-26dd949e71cb"
      },
      "execution_count": 30,
      "outputs": [
        {
          "output_type": "stream",
          "name": "stdout",
          "text": [
            "Accuracy: 91.415313225058 F1 Score: 94.28129829984545 Precision: 91.5915915915916 Recall: 97.13375796178345\n",
            "Confusion Matrix: \n",
            "True Negative: 89 False Positive: 28 False Negative: 9 True Positive: 305\n"
          ]
        }
      ]
    },
    {
      "cell_type": "code",
      "source": [
        "from matplotlib import pyplot\n",
        "\n",
        "results = pd.DataFrame(classifier.cv_results_)\n",
        "\n",
        "values = [i for i in range(1, 11)]\n",
        "\n",
        "for alpha in results['param_alpha']:\n",
        "  result = results.loc[results['param_alpha'] == alpha]\n",
        "  result1 = result[['split0_train_accuracy', 'split1_train_accuracy', 'split2_train_accuracy', 'split3_train_accuracy', 'split4_train_accuracy', 'split5_train_accuracy', 'split6_train_accuracy', 'split7_train_accuracy', 'split8_train_accuracy', 'split9_train_accuracy']]\n",
        "  result2 = result[['split0_test_accuracy', 'split1_test_accuracy', 'split2_test_accuracy', 'split3_test_accuracy', 'split4_test_accuracy', 'split5_test_accuracy', 'split6_test_accuracy', 'split7_test_accuracy', 'split8_test_accuracy', 'split9_test_accuracy']]\n",
        "  \n",
        "  train_scores = [result1[key] * 100 for key in result1.keys()]\n",
        "  test_scores = [result2[key] * 100 for key in result2.keys()]\n",
        "\n",
        "  # for key in result1.keys():\n",
        "  #   print(result1.keys())\n",
        "  #   print(result1[key])\n",
        "  pyplot.plot(values, train_scores, '-', label='Train')\n",
        "  pyplot.plot(values, test_scores, '-', label='Test')\n",
        "  pyplot.legend()\n",
        "  pyplot.show()"
      ],
      "metadata": {
        "colab": {
          "base_uri": "https://localhost:8080/",
          "height": 1000
        },
        "id": "yvj-tXcLgBIe",
        "outputId": "87b120ae-826e-4e55-9b9a-ea7a83d1f9e2"
      },
      "execution_count": null,
      "outputs": [
        {
          "output_type": "display_data",
          "data": {
            "text/plain": [
              "<Figure size 432x288 with 1 Axes>"
            ],
            "image/png": "[encoded data removed]"
          },
          "metadata": {
            "needs_background": "light"
          }
        },
        {
          "output_type": "display_data",
          "data": {
            "text/plain": [
              "<Figure size 432x288 with 1 Axes>"
            ],
            "image/png": "[encoded data removed]"
          },
          "metadata": {
            "needs_background": "light"
          }
        },
        {
          "output_type": "display_data",
          "data": {
            "text/plain": [
              "<Figure size 432x288 with 1 Axes>"
            ],
            "image/png": "[encoded data removed]"
          },
          "metadata": {
            "needs_background": "light"
          }
        },
        {
          "output_type": "display_data",
          "data": {
            "text/plain": [
              "<Figure size 432x288 with 1 Axes>"
            ],
            "image/png": "[encoded data removed]"
          },
          "metadata": {
            "needs_background": "light"
          }
        },
        {
          "output_type": "display_data",
          "data": {
            "text/plain": [
              "<Figure size 432x288 with 1 Axes>"
            ],
            "image/png": "[encoded data removed]"
          },
          "metadata": {
            "needs_background": "light"
          }
        },
        {
          "output_type": "display_data",
          "data": {
            "text/plain": [
              "<Figure size 432x288 with 1 Axes>"
            ],
            "image/png": "[encoded data removed]"
          },
          "metadata": {
            "needs_background": "light"
          }
        }
      ]
    },
    {
      "cell_type": "code",
      "source": [
        "best = results.loc[results['rank_test_accuracy'] == 1]\n",
        "best[['param_alpha', 'mean_test_accuracy', 'mean_test_f1', 'mean_test_precision', 'mean_test_recall', 'rank_test_accuracy']]\n",
        "\n",
        "model_stats = {\n",
        "  \"accuracy\": round(float(best['mean_test_accuracy'] * 100), 2),\n",
        "  \"precision\": round(float(best['mean_test_precision'] * 100), 2),\n",
        "  \"recall\": round(float(best['mean_test_recall'] * 100), 2),\n",
        "  \"f1score\": round(float(best['mean_test_f1'] * 100), 2)\n",
        "}\n",
        "\n",
        "# convert into JSON:\n",
        "model_stats = json.dumps(model_stats)\n",
        "\n",
        "with open(\"model_stats.json\", \"w\") as outfile:\n",
        "    outfile.write(model_stats)"
      ],
      "metadata": {
        "id": "GpJ2EQpsUUHL"
      },
      "execution_count": null,
      "outputs": []
    },
    {
      "cell_type": "markdown",
      "source": [
        "## Confusion Matrix"
      ],
      "metadata": {
        "id": "UHvBOSVckSPX"
      }
    },
    {
      "cell_type": "code",
      "source": [
        "from sklearn.metrics import confusion_matrix\n",
        "\n",
        "pred = classifier.predict(x_oversampled)\n",
        "tn, fp, fn, tp = confusion_matrix(y_oversampled, pred).ravel()\n",
        "print(f\"True Negative: {tn} False Positive: {fp} False Negative: {fn} True Postive: {tp}\")"
      ],
      "metadata": {
        "id": "ivDVtof5itTk",
        "colab": {
          "base_uri": "https://localhost:8080/"
        },
        "outputId": "da845b0a-f630-4b39-d675-56a5384213b5"
      },
      "execution_count": null,
      "outputs": [
        {
          "output_type": "stream",
          "name": "stdout",
          "text": [
            "True Negative: 752 False Positive: 0 False Negative: 2 True Postive: 750\n"
          ]
        }
      ]
    },
    {
      "cell_type": "code",
      "source": [
        "import pickle\n",
        "\n",
        "pickle.dump(classifier, open('model.pkl', 'wb'))\n",
        "pickle.dump(vectorizer, open('vectorizer.pkl', 'wb'))"
      ],
      "metadata": {
        "id": "uW-TlfGz1az1"
      },
      "execution_count": null,
      "outputs": []
    }
  ],
  "metadata": {
    "colab": {
      "collapsed_sections": [],
      "name": "sentiment_analysis.ipynb",
      "provenance": [],
      "include_colab_link": true
    },
    "kernelspec": {
      "display_name": "Python 3",
      "name": "python3"
    },
    "language_info": {
      "name": "python"
    }
  },
  "nbformat": 4,
  "nbformat_minor": 0
}